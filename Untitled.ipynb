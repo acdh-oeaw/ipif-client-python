{
 "cells": [
  {
   "cell_type": "code",
   "execution_count": 1,
   "id": "6c7b52e7",
   "metadata": {},
   "outputs": [],
   "source": [
    "from ipif_client import IPIF"
   ]
  },
  {
   "cell_type": "code",
   "execution_count": 2,
   "id": "e284390d",
   "metadata": {},
   "outputs": [],
   "source": [
    "ipif = IPIF()\n",
    "\n",
    "ipif.add_endpoint(name=\"APIS\", uri=\"http://localhost:8000/ipif/\")"
   ]
  },
  {
   "cell_type": "code",
   "execution_count": 23,
   "id": "ebfc8d0e",
   "metadata": {},
   "outputs": [
    {
     "name": "stdout",
     "output_type": "stream",
     "text": [
      "\u001b[K\u001b[35m✅ \u001b[0m Getting persons @id='27527' from APIS (0:00:00.00)\n"
     ]
    },
    {
     "data": {
      "text/plain": [
       "Source: original_source_594"
      ]
     },
     "execution_count": 23,
     "metadata": {},
     "output_type": "execute_result"
    }
   ],
   "source": [
    "ipif.Persons.id(\"27527\").factoids[0].source"
   ]
  },
  {
   "cell_type": "code",
   "execution_count": null,
   "id": "1f03e935",
   "metadata": {},
   "outputs": [],
   "source": []
  },
  {
   "cell_type": "code",
   "execution_count": null,
   "id": "a128efb7",
   "metadata": {},
   "outputs": [],
   "source": []
  },
  {
   "cell_type": "code",
   "execution_count": null,
   "id": "034e8167",
   "metadata": {},
   "outputs": [],
   "source": []
  }
 ],
 "metadata": {
  "kernelspec": {
   "display_name": "Python 3 (ipykernel)",
   "language": "python",
   "name": "python3"
  },
  "language_info": {
   "codemirror_mode": {
    "name": "ipython",
    "version": 3
   },
   "file_extension": ".py",
   "mimetype": "text/x-python",
   "name": "python",
   "nbconvert_exporter": "python",
   "pygments_lexer": "ipython3",
   "version": "3.9.5"
  }
 },
 "nbformat": 4,
 "nbformat_minor": 5
}
